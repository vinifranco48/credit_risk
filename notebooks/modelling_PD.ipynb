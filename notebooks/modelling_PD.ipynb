{
 "cells": [
  {
   "cell_type": "code",
   "execution_count": 3,
   "metadata": {},
   "outputs": [],
   "source": [
    "import pandas as pd\n",
    "import numpy as np\n",
    "import matplotlib.pyplot as plt\n",
    "import seaborn as sns\n",
    "from sklearn.model_selection import train_test_split\n",
    "import sys\n",
    "sys.path.append('/home/noise/Documentos/credit_risk')\n",
    "\n",
    "from src.utils_modelling import analisy_univariate, wo_discretize, plot_woe, wo_discretize_continuos\n"
   ]
  },
  {
   "cell_type": "code",
   "execution_count": 4,
   "metadata": {},
   "outputs": [
    {
     "name": "stderr",
     "output_type": "stream",
     "text": [
      "/tmp/ipykernel_42678/1419039435.py:2: DtypeWarning: Columns (1) have mixed types. Specify dtype option on import or set low_memory=False.\n",
      "  target_train = pd.read_csv('/home/noise/Documentos/credit_risk/data/loan_data_targets_train.csv', index_col=0, header=None)\n"
     ]
    }
   ],
   "source": [
    "\n",
    "#LINUX\n",
    "'''input_train = pd.read_csv('/home/noise/Documentos/credit_risk/data/loan_data_inputs_train.csv', index_col=0)\n",
    "target_train = pd.read_csv('/home/noise/Documentos/credit_risk/data/loan_data_targets_train.csv', index_col=0, header=None)\n",
    "input_test = pd.read_csv('/home/noise/Documentos/credit_risk/data/loan_data_inputs_test.csv', index_col=0)\n",
    "target_train = pd.read_csv('/home/noise/Documentos/credit_risk/data/loan_data_targets_test.csv', index_col=0, header=None)\n",
    "'''"
   ]
  },
  {
   "cell_type": "code",
   "execution_count": 5,
   "metadata": {},
   "outputs": [
    {
     "data": {
      "text/plain": [
       "(373028, 322)"
      ]
     },
     "execution_count": 5,
     "metadata": {},
     "output_type": "execute_result"
    }
   ],
   "source": [
    "input_train.shape"
   ]
  }
 ],
 "metadata": {
  "kernelspec": {
   "display_name": "base",
   "language": "python",
   "name": "python3"
  },
  "language_info": {
   "codemirror_mode": {
    "name": "ipython",
    "version": 3
   },
   "file_extension": ".py",
   "mimetype": "text/x-python",
   "name": "python",
   "nbconvert_exporter": "python",
   "pygments_lexer": "ipython3",
   "version": "3.11.5"
  }
 },
 "nbformat": 4,
 "nbformat_minor": 2
}
